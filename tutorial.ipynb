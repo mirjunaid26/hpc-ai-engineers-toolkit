{
 "cells": [
  {
   "attachments": {},
   "cell_type": "markdown",
   "metadata": {},
   "source": [
    "## HPC Toolkit - ECN Supercomputing Center\n",
    "\n",
    "\n",
    "\n",
    "### CONTENTS\n",
    "\n",
    "\n",
    "#### 1. Connect by SSH\n",
    "To access the Supercomputer, you will need an SSH (secure shell) client, a piece of software for establishing secure connections to remote machines.\n",
    "\n",
    "On MacOS and Linux, the default terminal application has such a client built-in. No download is necessary!\n",
    "\n",
    "On Windows 10 machines, there is also an SSH-enabled client.\n",
    "\n",
    "#### 2. Basic Linux Commands\n",
    "\n",
    "To deactivate `auto_autoactivate_conda` which displays `(base)` infront of the username.\n",
    "\n",
    "```\n",
    "conda config --set auto_activate_base False\n",
    "source ~/.bashrc\n",
    "```\n",
    "\n",
    "#### 3. SLURM\n",
    "#### 4. Apptainer/Singularity Containers\n",
    "#### 5. Python/Numba\n",
    "Demonstration the power of Numba over Python."
   ]
  },
  {
   "attachments": {},
   "cell_type": "markdown",
   "metadata": {},
   "source": [
    "---\n",
    "theme: gaia\n",
    "_class: lead\n",
    "paginate: true\n",
    "backgroundColor: #fff\n",
    "backgroundImage: url('https://supercomputing.ec-nantes.fr/wp-content/uploads/2017/12/IMG_6830-1024x683.jpg')\n",
    "---\n",
    "\n",
    "![bg left:40% 80%](https://supercomputing.ec-nantes.fr/wp-content/uploads/2017/12/IMG_6830-1024x683.jpg)\n",
    "\n",
    "# **Marp**\n",
    "\n",
    "High Performance Computing\n",
    "\n",
    "https://glicid.fr/\n",
    "\n",
    "---\n",
    "\n",
    "# How to write slides\n",
    "\n",
    "Split pages by horizontal ruler (`---`). It's very simple! :satisfied:\n",
    "\n",
    "```markdown\n",
    "# Slide 1\n",
    "\n",
    "foobar\n",
    "\n",
    "---\n",
    "\n",
    "# Slide 2\n",
    "\n",
    "foobar\n",
    "```"
   ]
  },
  {
   "attachments": {},
   "cell_type": "markdown",
   "metadata": {},
   "source": []
  }
 ],
 "metadata": {
  "kernelspec": {
   "display_name": "pytorch",
   "language": "python",
   "name": "python3"
  },
  "language_info": {
   "codemirror_mode": {
    "name": "ipython",
    "version": 3
   },
   "file_extension": ".py",
   "mimetype": "text/x-python",
   "name": "python",
   "nbconvert_exporter": "python",
   "pygments_lexer": "ipython3",
   "version": "3.9.16"
  },
  "orig_nbformat": 4
 },
 "nbformat": 4,
 "nbformat_minor": 2
}
