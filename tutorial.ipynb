{
 "cells": [
  {
   "attachments": {},
   "cell_type": "markdown",
   "metadata": {},
   "source": [
    "# **Supercomputing Center, Ecole Centrale Nantes**\n",
    "\n",
    "\n",
    "\n",
    "\n",
    "![bg left:40% 80%](https://supercomputing.ec-nantes.fr/wp-content/uploads/2017/12/IMG_6830-1024x683.jpg)\n"
   ]
  },
  {
   "attachments": {},
   "cell_type": "markdown",
   "metadata": {},
   "source": [
    "----------------------------------------------------------------------------------------------------------------------------------------"
   ]
  },
  {
   "attachments": {},
   "cell_type": "markdown",
   "metadata": {},
   "source": [
    "## HPC Toolkit - ECN Supercomputing Center\n",
    "\n",
    "CONTENTS\n",
    "1. Connect by SSH\n",
    "2. Basic Linux Commands\n",
    "3. SLURM\n",
    "4. Apptainer/Singularity Containers\n",
    "5. Python/Numba"
   ]
  },
  {
   "attachments": {},
   "cell_type": "markdown",
   "metadata": {},
   "source": [
    "----------------------------------------------------------------------------------------------------------------------------------------"
   ]
  },
  {
   "attachments": {},
   "cell_type": "markdown",
   "metadata": {},
   "source": [
    "### 1. Connect via SSH\n",
    "To access the Supercomputer, you will need an SSH (secure shell) client, a piece of software for establishing secure connections to remote machines.\n",
    "\n",
    "On MacOS and Linux, the default terminal application has such a client built-in. No download is necessary!\n",
    "\n",
    "On Windows 10 machines, there is also an SSH-enabled client."
   ]
  },
  {
   "attachments": {},
   "cell_type": "markdown",
   "metadata": {},
   "source": [
    "----------------------------------------------------------------------------------------------------------------------------------------"
   ]
  },
  {
   "attachments": {},
   "cell_type": "markdown",
   "metadata": {},
   "source": [
    "### 2. Basic Linux Commands\n",
    "\n",
    "To deactivate `auto_autoactivate_conda` which displays `(base)` infront of the username.\n",
    "\n",
    "```\n",
    "conda config --set auto_activate_base False\n",
    "source ~/.bashrc\n",
    "```"
   ]
  },
  {
   "attachments": {},
   "cell_type": "markdown",
   "metadata": {},
   "source": [
    "----------------------------------------------------------------------------------------------------------------------------------------"
   ]
  },
  {
   "attachments": {},
   "cell_type": "markdown",
   "metadata": {},
   "source": [
    "### 3. SLURM"
   ]
  },
  {
   "attachments": {},
   "cell_type": "markdown",
   "metadata": {},
   "source": [
    "----------------------------------------------------------------------------------------------------------------------------------------"
   ]
  },
  {
   "attachments": {},
   "cell_type": "markdown",
   "metadata": {},
   "source": [
    "### 4. Apptainer/Singularity Containers"
   ]
  },
  {
   "attachments": {},
   "cell_type": "markdown",
   "metadata": {},
   "source": [
    "----------------------------------------------------------------------------------------------------------------------------------------"
   ]
  },
  {
   "attachments": {},
   "cell_type": "markdown",
   "metadata": {},
   "source": [
    "### 5. Python/Numba\n",
    "Demonstrate the power of Numba over Python. Why use HPC?"
   ]
  },
  {
   "cell_type": "code",
   "execution_count": 2,
   "metadata": {},
   "outputs": [],
   "source": [
    "# Matrix Multiplication\n",
    "\n",
    "import numpy\n",
    "def dot(a, b):\n",
    "    \"\"\"Multiply the matrix a with the matrxi b.\n",
    "    \n",
    "    Parameters\n",
    "    ----------\n",
    "    a: ndarray\n",
    "        left matrxi\n",
    "    b: ndarray\n",
    "        right matrix\n",
    "        \n",
    "    Return\n",
    "    ------\n",
    "    c: ndarray\n",
    "        result matrix\n",
    "    \"\"\"\n",
    "    c = numpy.zeros((a.shape[0], b.shape[1]))\n",
    "    for i in range(a.shape[0]):\n",
    "        for j in range(b.shape[1]):\n",
    "            for k in range(a.shape[1]):\n",
    "                c[i, j] += a [i, k] * b[k, j]\n",
    "    return c\n"
   ]
  },
  {
   "cell_type": "code",
   "execution_count": 3,
   "metadata": {},
   "outputs": [
    {
     "name": "stdout",
     "output_type": "stream",
     "text": [
      "9.93 s ± 114 ms per loop (mean ± std. dev. of 7 runs, 1 loop each)\n"
     ]
    }
   ],
   "source": [
    "# Let's two small matrices and see how long the above function takes to conpute matrix multiplication.\n",
    "\n",
    "n = 256\n",
    "a = numpy.random.random((n, n))\n",
    "b = numpy.random.random((n, n))\n",
    "\n",
    "t_dot = %timeit -o dot(a, b)"
   ]
  },
  {
   "cell_type": "code",
   "execution_count": 4,
   "metadata": {},
   "outputs": [
    {
     "name": "stdout",
     "output_type": "stream",
     "text": [
      "0.003 GFLOP/s\n"
     ]
    }
   ],
   "source": [
    "# A matrix multiplication of two n by n matrices performs 2n^3 operations. The dot function achieves\n",
    "\n",
    "print(\"%.3f GFLOP/s\" % (2e-9 * n**3 / t_dot.best))"
   ]
  },
  {
   "attachments": {},
   "cell_type": "markdown",
   "metadata": {},
   "source": [
    "That's why they tell is Python is slower. One way to make it faster is to use Numba."
   ]
  },
  {
   "cell_type": "code",
   "execution_count": null,
   "metadata": {},
   "outputs": [],
   "source": []
  }
 ],
 "metadata": {
  "kernelspec": {
   "display_name": "pytorch",
   "language": "python",
   "name": "python3"
  },
  "language_info": {
   "codemirror_mode": {
    "name": "ipython",
    "version": 3
   },
   "file_extension": ".py",
   "mimetype": "text/x-python",
   "name": "python",
   "nbconvert_exporter": "python",
   "pygments_lexer": "ipython3",
   "version": "3.9.16"
  },
  "orig_nbformat": 4
 },
 "nbformat": 4,
 "nbformat_minor": 2
}
